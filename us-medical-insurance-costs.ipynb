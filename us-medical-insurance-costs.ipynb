{
 "cells": [
  {
   "cell_type": "markdown",
   "metadata": {},
   "source": [
    "# U.S. Medical Insurance Costs"
   ]
  },
  {
   "cell_type": "markdown",
   "metadata": {},
   "source": [
    "## First Analysis: Children and BMI\n",
    "\n",
    "The first analysis will be to examine whether there is a correlation between number of children and BMI in males and females.\n",
    "\n",
    "First I will consider median BMI per child, then I will consider median BMI per child by age group.\n",
    "\n",
    "### Hypothesis\n",
    "\n",
    "I hypothesise that there may be a linear correlation between number of children and BMI."
   ]
  },
  {
   "cell_type": "code",
   "execution_count": 62,
   "metadata": {},
   "outputs": [],
   "source": [
    "import csv\n",
    "import statistics\n",
    "\n",
    "# Initialize lists to store data\n",
    "age_list_male = []\n",
    "age_list_female = []\n",
    "sex_list = []\n",
    "bmi_list_male = []\n",
    "bmi_list_female = []\n",
    "children_list_male = []\n",
    "children_list_female = []\n",
    "\n",
    "# Extract data to separate lists for males and females\n",
    "with open('insurance.csv') as file:\n",
    "    reader = csv.DictReader(file)\n",
    "    for item in reader:\n",
    "        age = int(item['age'])  # Convert age to integer\n",
    "        bmi = float(item['bmi'])  # Convert bmi to float\n",
    "        children = int(item['children'])  # Convert children to integer\n",
    "        # Check the gender and append data to the respective lists\n",
    "        if item['sex'] == 'male':\n",
    "            age_list_male.append(age)\n",
    "            bmi_list_male.append(bmi)\n",
    "            children_list_male.append(children)\n",
    "        elif item['sex'] == 'female':\n",
    "            age_list_female.append(age)\n",
    "            bmi_list_female.append(bmi)\n",
    "            children_list_female.append(children)\n",
    "\n",
    "# BMI per child calculator\n",
    "def child_bmi_calculator(child_bmi_list, sex):\n",
    "    child_free_bmi = []\n",
    "    one_child_bmi = []\n",
    "    two_child_bmi = []\n",
    "    three_child_bmi = []\n",
    "    four_child_bmi = []\n",
    "    five_child_bmi = []\n",
    "    more_child_bmi = []\n",
    "    for children, bmi in child_bmi_list:\n",
    "        if children == 0:\n",
    "            child_free_bmi.append(bmi)\n",
    "        elif children == 1:\n",
    "            one_child_bmi.append(bmi)\n",
    "        elif children == 2:\n",
    "            two_child_bmi.append(bmi)\n",
    "        elif children == 3:\n",
    "            three_child_bmi.append(bmi)\n",
    "        elif children == 4:\n",
    "            four_child_bmi.append(bmi)\n",
    "        elif children == 5:\n",
    "            five_child_bmi.append(bmi)\n",
    "        else:\n",
    "            more_child_bmi.append(bmi)\n",
    "    child_free_median_bmi = statistics.median(child_free_bmi)\n",
    "    one_child_median_bmi = statistics.median(one_child_bmi)\n",
    "    two_child_median_bmi = statistics.median(two_child_bmi)\n",
    "    three_child_median_bmi = statistics.median(three_child_bmi)\n",
    "    four_child_median_bmi = statistics.median(four_child_bmi)\n",
    "    five_child_median_bmi = statistics.median(five_child_bmi)\n",
    "    print(str(child_free_median_bmi) + \" is the median BMI for child-free \" + sex + \"s\")\n",
    "    print(str(one_child_median_bmi) + \" is the median BMI for one child \" + sex + \"s\")\n",
    "    print(str(two_child_median_bmi) + \" is the median BMI for two child \" + sex + \"s\")\n",
    "    print(str(three_child_median_bmi) + \" is the median BMI for three child \" + sex + \"s\")\n",
    "    print(str(four_child_median_bmi) + \" is the median BMI for four child \" + sex + \"s\")\n",
    "    print(str(five_child_median_bmi) + \" is the median BMI for five child \" + sex + \"s\")\n",
    "\n",
    "\n"
   ]
  },
  {
   "cell_type": "markdown",
   "metadata": {},
   "source": [
    "## Median BMI per child (male)"
   ]
  },
  {
   "cell_type": "code",
   "execution_count": 63,
   "metadata": {},
   "outputs": [
    {
     "name": "stdout",
     "output_type": "stream",
     "text": [
      "30.59 is the median BMI for child-free males\n",
      "30.35 is the median BMI for one child males\n",
      "31.73 is the median BMI for two child males\n",
      "30.79 is the median BMI for three child males\n",
      "30.2375 is the median BMI for four child males\n",
      "27.15 is the median BMI for five child males\n"
     ]
    }
   ],
   "source": [
    "# Combine children and bmi lists for males\n",
    "child_bmi_list_males = list(zip(children_list_male, bmi_list_male))\n",
    "\n",
    "# Call the function\n",
    "child_bmi_calculator(child_bmi_list_males, \"male\")"
   ]
  },
  {
   "cell_type": "code",
   "execution_count": null,
   "metadata": {},
   "outputs": [],
   "source": []
  }
 ],
 "metadata": {
  "kernelspec": {
   "display_name": "Python 3",
   "language": "python",
   "name": "python3"
  },
  "language_info": {
   "codemirror_mode": {
    "name": "ipython",
    "version": 3
   },
   "file_extension": ".py",
   "mimetype": "text/x-python",
   "name": "python",
   "nbconvert_exporter": "python",
   "pygments_lexer": "ipython3",
   "version": "3.13.0"
  }
 },
 "nbformat": 4,
 "nbformat_minor": 4
}
